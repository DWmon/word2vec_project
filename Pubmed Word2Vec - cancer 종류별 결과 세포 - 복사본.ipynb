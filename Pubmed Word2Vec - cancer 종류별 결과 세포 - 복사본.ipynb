{
 "cells": [
  {
   "cell_type": "markdown",
   "metadata": {},
   "source": [
    "# Pubmed - EGFR\n",
    "조건 : text availablity : free full text"
   ]
  },
  {
   "cell_type": "markdown",
   "metadata": {},
   "source": [
    "# EGFR 데이터 1~10 개별 데이터에서 EGFR 관련 단어들"
   ]
  },
  {
   "cell_type": "code",
   "execution_count": 1,
   "metadata": {},
   "outputs": [
    {
     "name": "stderr",
     "output_type": "stream",
     "text": [
      "D:\\Users\\rkfksh\\Anaconda3\\lib\\site-packages\\gensim\\utils.py:1209: UserWarning: detected Windows; aliasing chunkize to chunkize_serial\n",
      "  warnings.warn(\"detected Windows; aliasing chunkize to chunkize_serial\")\n"
     ]
    },
    {
     "name": "stdout",
     "output_type": "stream",
     "text": [
      "----------------------------------------------------------\n",
      "EGFR1데이터에서 EGFR와 관련된 문자들\n",
      "----------------------------------------------------------\n"
     ]
    },
    {
     "name": "stderr",
     "output_type": "stream",
     "text": [
      "D:\\Users\\rkfksh\\Anaconda3\\lib\\site-packages\\gensim\\matutils.py:737: FutureWarning: Conversion of the second argument of issubdtype from `int` to `np.signedinteger` is deprecated. In future, it will be treated as `np.int32 == np.dtype(int).type`.\n",
      "  if np.issubdtype(vec.dtype, np.int):\n"
     ]
    },
    {
     "name": "stdout",
     "output_type": "stream",
     "text": [
      "the\n",
      "of\n",
      "and\n",
      "cell\n",
      "to\n",
      "was\n",
      "as\n",
      "with\n",
      "showed\n",
      "ANKRD1\n",
      "----------------------------------------------------------\n",
      "EGFR2데이터에서 EGFR와 관련된 문자들\n",
      "----------------------------------------------------------\n"
     ]
    },
    {
     "ename": "KeyError",
     "evalue": "\"word 'EGFR' not in vocabulary\"",
     "output_type": "error",
     "traceback": [
      "\u001b[1;31m---------------------------------------------------------------------------\u001b[0m",
      "\u001b[1;31mKeyError\u001b[0m                                  Traceback (most recent call last)",
      "\u001b[1;32m<ipython-input-1-246da809bdd9>\u001b[0m in \u001b[0;36m<module>\u001b[1;34m()\u001b[0m\n\u001b[0;32m     24\u001b[0m     \u001b[0mprint\u001b[0m\u001b[1;33m(\u001b[0m\u001b[1;34m\"EGFR\"\u001b[0m \u001b[1;33m+\u001b[0m \u001b[0mstr\u001b[0m\u001b[1;33m(\u001b[0m\u001b[0mi\u001b[0m\u001b[1;33m)\u001b[0m \u001b[1;33m+\u001b[0m\u001b[1;34m\"데이터에서 EGFR와 관련된 문자들\"\u001b[0m\u001b[1;33m)\u001b[0m\u001b[1;33m\u001b[0m\u001b[0m\n\u001b[0;32m     25\u001b[0m     \u001b[0mprint\u001b[0m\u001b[1;33m(\u001b[0m\u001b[1;34m\"----------------------------------------------------------\"\u001b[0m\u001b[1;33m)\u001b[0m\u001b[1;33m\u001b[0m\u001b[0m\n\u001b[1;32m---> 26\u001b[1;33m     \u001b[1;32mfor\u001b[0m \u001b[0mword\u001b[0m\u001b[1;33m,\u001b[0m \u001b[0mscore\u001b[0m \u001b[1;32min\u001b[0m \u001b[0mmodel\u001b[0m\u001b[1;33m.\u001b[0m\u001b[0mwv\u001b[0m\u001b[1;33m.\u001b[0m\u001b[0mmost_similar\u001b[0m\u001b[1;33m(\u001b[0m\u001b[1;34m\"EGFR\"\u001b[0m\u001b[1;33m)\u001b[0m\u001b[1;33m:\u001b[0m   \u001b[1;31m# cancer0에서 cancer에 대한 연관성\u001b[0m\u001b[1;33m\u001b[0m\u001b[0m\n\u001b[0m\u001b[0;32m     27\u001b[0m         \u001b[0mprint\u001b[0m\u001b[1;33m(\u001b[0m\u001b[0mword\u001b[0m\u001b[1;33m)\u001b[0m\u001b[1;33m\u001b[0m\u001b[0m\n\u001b[0;32m     28\u001b[0m     \u001b[0mfile\u001b[0m\u001b[1;33m.\u001b[0m\u001b[0mclose\u001b[0m\u001b[1;33m(\u001b[0m\u001b[1;33m)\u001b[0m\u001b[1;33m\u001b[0m\u001b[0m\n",
      "\u001b[1;32mD:\\Users\\rkfksh\\Anaconda3\\lib\\site-packages\\gensim\\models\\keyedvectors.py\u001b[0m in \u001b[0;36mmost_similar\u001b[1;34m(self, positive, negative, topn, restrict_vocab, indexer)\u001b[0m\n\u001b[0;32m    528\u001b[0m                 \u001b[0mmean\u001b[0m\u001b[1;33m.\u001b[0m\u001b[0mappend\u001b[0m\u001b[1;33m(\u001b[0m\u001b[0mweight\u001b[0m \u001b[1;33m*\u001b[0m \u001b[0mword\u001b[0m\u001b[1;33m)\u001b[0m\u001b[1;33m\u001b[0m\u001b[0m\n\u001b[0;32m    529\u001b[0m             \u001b[1;32melse\u001b[0m\u001b[1;33m:\u001b[0m\u001b[1;33m\u001b[0m\u001b[0m\n\u001b[1;32m--> 530\u001b[1;33m                 \u001b[0mmean\u001b[0m\u001b[1;33m.\u001b[0m\u001b[0mappend\u001b[0m\u001b[1;33m(\u001b[0m\u001b[0mweight\u001b[0m \u001b[1;33m*\u001b[0m \u001b[0mself\u001b[0m\u001b[1;33m.\u001b[0m\u001b[0mword_vec\u001b[0m\u001b[1;33m(\u001b[0m\u001b[0mword\u001b[0m\u001b[1;33m,\u001b[0m \u001b[0muse_norm\u001b[0m\u001b[1;33m=\u001b[0m\u001b[1;32mTrue\u001b[0m\u001b[1;33m)\u001b[0m\u001b[1;33m)\u001b[0m\u001b[1;33m\u001b[0m\u001b[0m\n\u001b[0m\u001b[0;32m    531\u001b[0m                 \u001b[1;32mif\u001b[0m \u001b[0mword\u001b[0m \u001b[1;32min\u001b[0m \u001b[0mself\u001b[0m\u001b[1;33m.\u001b[0m\u001b[0mvocab\u001b[0m\u001b[1;33m:\u001b[0m\u001b[1;33m\u001b[0m\u001b[0m\n\u001b[0;32m    532\u001b[0m                     \u001b[0mall_words\u001b[0m\u001b[1;33m.\u001b[0m\u001b[0madd\u001b[0m\u001b[1;33m(\u001b[0m\u001b[0mself\u001b[0m\u001b[1;33m.\u001b[0m\u001b[0mvocab\u001b[0m\u001b[1;33m[\u001b[0m\u001b[0mword\u001b[0m\u001b[1;33m]\u001b[0m\u001b[1;33m.\u001b[0m\u001b[0mindex\u001b[0m\u001b[1;33m)\u001b[0m\u001b[1;33m\u001b[0m\u001b[0m\n",
      "\u001b[1;32mD:\\Users\\rkfksh\\Anaconda3\\lib\\site-packages\\gensim\\models\\keyedvectors.py\u001b[0m in \u001b[0;36mword_vec\u001b[1;34m(self, word, use_norm)\u001b[0m\n\u001b[0;32m    449\u001b[0m             \u001b[1;32mreturn\u001b[0m \u001b[0mresult\u001b[0m\u001b[1;33m\u001b[0m\u001b[0m\n\u001b[0;32m    450\u001b[0m         \u001b[1;32melse\u001b[0m\u001b[1;33m:\u001b[0m\u001b[1;33m\u001b[0m\u001b[0m\n\u001b[1;32m--> 451\u001b[1;33m             \u001b[1;32mraise\u001b[0m \u001b[0mKeyError\u001b[0m\u001b[1;33m(\u001b[0m\u001b[1;34m\"word '%s' not in vocabulary\"\u001b[0m \u001b[1;33m%\u001b[0m \u001b[0mword\u001b[0m\u001b[1;33m)\u001b[0m\u001b[1;33m\u001b[0m\u001b[0m\n\u001b[0m\u001b[0;32m    452\u001b[0m \u001b[1;33m\u001b[0m\u001b[0m\n\u001b[0;32m    453\u001b[0m     \u001b[1;32mdef\u001b[0m \u001b[0mget_vector\u001b[0m\u001b[1;33m(\u001b[0m\u001b[0mself\u001b[0m\u001b[1;33m,\u001b[0m \u001b[0mword\u001b[0m\u001b[1;33m)\u001b[0m\u001b[1;33m:\u001b[0m\u001b[1;33m\u001b[0m\u001b[0m\n",
      "\u001b[1;31mKeyError\u001b[0m: \"word 'EGFR' not in vocabulary\""
     ]
    }
   ],
   "source": [
    "import re\n",
    "import pandas as pd\n",
    "import numpy as np\n",
    "from  gensim.models import Word2Vec\n",
    "\n",
    "for i in range(1,10+1):\n",
    "    file = open(\"./Pubmed - EGFR 10th data/\" + str(i) + \".EGFR.txt\",\"r\",errors=\"ignore\")\n",
    "    cancer_data = file.read()\n",
    "    cancer_data = re.split(\"[\\n\\.?]\", cancer_data)\n",
    "\n",
    "    while '' in cancer_data:\n",
    "        cancer_data.remove('')\n",
    "    \n",
    "    Cancer = pd.DataFrame()\n",
    "    Cancer['sentences'] = np.asarray(cancer_data)\n",
    "    Cancer['sentences_seperated'] = Cancer['sentences'].apply(lambda x: x.replace(\",\", \"\"))\n",
    "    Cancer['sentences_seperated'] = Cancer['sentences_seperated'].apply(lambda x: x.replace(\";\", \"\"))\n",
    "    Cancer['sentences_seperated'] = Cancer['sentences_seperated'].apply(lambda x: x.replace(\"\\\"\", \"\"))\n",
    "    Cancer['sentences_seperated'] = Cancer['sentences_seperated'].apply(lambda x: x.split())\n",
    "\n",
    "    model = Word2Vec(Cancer['sentences_seperated'], hs=1, size=300, min_count=10)\n",
    "\n",
    "    print(\"----------------------------------------------------------\")\n",
    "    print(\"EGFR\" + str(i) +\"데이터에서 EGFR와 관련된 문자들\")\n",
    "    print(\"----------------------------------------------------------\")\n",
    "    for word, score in model.wv.most_similar(\"EGFR\"):   # cancer0에서 cancer에 대한 연관성\n",
    "        print(word)\n",
    "    file.close()\n"
   ]
  },
  {
   "cell_type": "markdown",
   "metadata": {},
   "source": [
    "# EGFR 데이터 합본에서 EGFR 관련 단어들"
   ]
  },
  {
   "cell_type": "code",
   "execution_count": 19,
   "metadata": {},
   "outputs": [
    {
     "name": "stdout",
     "output_type": "stream",
     "text": [
      "----------------------------------------------------------\n",
      "EGFR11데이터에서 EGFR와 관련된 문자들\n",
      "----------------------------------------------------------\n",
      "recurrence\n",
      "injection\n",
      "cancer\n",
      "longer\n",
      "after\n",
      "tumor\n",
      "miR-133a-3p\n",
      "in\n",
      "A549\n",
      "on\n"
     ]
    },
    {
     "name": "stderr",
     "output_type": "stream",
     "text": [
      "D:\\Users\\rkfksh\\Anaconda3\\lib\\site-packages\\gensim\\matutils.py:737: FutureWarning: Conversion of the second argument of issubdtype from `int` to `np.signedinteger` is deprecated. In future, it will be treated as `np.int32 == np.dtype(int).type`.\n",
      "  if np.issubdtype(vec.dtype, np.int):\n"
     ]
    }
   ],
   "source": [
    "import re\n",
    "import pandas as pd\n",
    "import numpy as np\n",
    "from  gensim.models import Word2Vec\n",
    "\n",
    "for i in range(11,11+1):\n",
    "    file = open(\"./Pubmed - EGFR 10th data/\" + str(i) + \".EGFR.txt\",\"r\",errors=\"ignore\")\n",
    "    cancer_data = file.read()\n",
    "    cancer_data = re.split(\"[\\n\\.?]\", cancer_data)\n",
    "\n",
    "    while '' in cancer_data:\n",
    "        cancer_data.remove('')\n",
    "    \n",
    "    Cancer = pd.DataFrame()\n",
    "    Cancer['sentences'] = np.asarray(cancer_data)\n",
    "    Cancer['sentences_seperated'] = Cancer['sentences'].apply(lambda x: x.replace(\",\", \"\"))\n",
    "    Cancer['sentences_seperated'] = Cancer['sentences_seperated'].apply(lambda x: x.replace(\";\", \"\"))\n",
    "    Cancer['sentences_seperated'] = Cancer['sentences_seperated'].apply(lambda x: x.replace(\"\\\"\", \"\"))\n",
    "    Cancer['sentences_seperated'] = Cancer['sentences_seperated'].apply(lambda x: x.split())\n",
    "\n",
    "    model = Word2Vec(Cancer['sentences_seperated'], hs=1, size=300, min_count=10)\n",
    "\n",
    "    print(\"----------------------------------------------------------\")\n",
    "    print(\"EGFR\" + str(i) +\"데이터에서 EGFR와 관련된 문자들\")\n",
    "    print(\"----------------------------------------------------------\")\n",
    "    for word, score in model.wv.most_similar(\"EGFR\"):   # cancer0에서 cancer에 대한 연관성\n",
    "        print(word)\n",
    "    file.close()\n"
   ]
  },
  {
   "cell_type": "code",
   "execution_count": 46,
   "metadata": {},
   "outputs": [
    {
     "name": "stdout",
     "output_type": "stream",
     "text": [
      "----------------------------------------------------------\n",
      "EGFR11데이터에서 EGFR와 관련된 문자들\n",
      "----------------------------------------------------------\n",
      "features\n",
      "longer\n",
      "previous\n",
      "whether\n",
      "our\n",
      "Bcl-2\n",
      "median\n",
      "EGFR-TKI\n",
      "are\n",
      "patient\n"
     ]
    },
    {
     "name": "stderr",
     "output_type": "stream",
     "text": [
      "D:\\Users\\rkfksh\\Anaconda3\\lib\\site-packages\\gensim\\matutils.py:737: FutureWarning: Conversion of the second argument of issubdtype from `int` to `np.signedinteger` is deprecated. In future, it will be treated as `np.int32 == np.dtype(int).type`.\n",
      "  if np.issubdtype(vec.dtype, np.int):\n"
     ]
    }
   ],
   "source": [
    "import re\n",
    "import pandas as pd\n",
    "import numpy as np\n",
    "from  gensim.models import Word2Vec\n",
    "\n",
    "for i in range(11,11+1):\n",
    "    file = open(\"./Pubmed - EGFR 10th data/\" + str(i) + \".EGFR.txt\",\"r\",errors=\"ignore\")\n",
    "    cancer_data = file.read()\n",
    "    cancer_data = re.split(\"[\\n\\.?]\", cancer_data)\n",
    "\n",
    "    while '' in cancer_data:\n",
    "        cancer_data.remove('')\n",
    "    \n",
    "    Cancer = pd.DataFrame()\n",
    "    Cancer['sentences'] = np.asarray(cancer_data)\n",
    "    Cancer['sentences_seperated'] = Cancer['sentences'].apply(lambda x: x.replace(\",\", \"\"))\n",
    "    Cancer['sentences_seperated'] = Cancer['sentences_seperated'].apply(lambda x: x.replace(\";\", \"\"))\n",
    "    Cancer['sentences_seperated'] = Cancer['sentences_seperated'].apply(lambda x: x.replace(\"\\\"\", \"\"))\n",
    "    Cancer['sentences_seperated'] = Cancer['sentences_seperated'].apply(lambda x: x.split())\n",
    "\n",
    "    model = Word2Vec(Cancer['sentences_seperated'], hs=1, size=300, min_count=8)\n",
    "\n",
    "    print(\"----------------------------------------------------------\")\n",
    "    print(\"EGFR\" + str(i) +\"데이터에서 EGFR와 관련된 문자들\")\n",
    "    print(\"----------------------------------------------------------\")\n",
    "    for word, score in model.wv.most_similar(\"EGFR\"):   # cancer0에서 cancer에 대한 연관성\n",
    "        print(word)\n",
    "    file.close()\n"
   ]
  },
  {
   "cell_type": "markdown",
   "metadata": {},
   "source": [
    "# EGFR 데이터 합본에서 LUNG 관련 단어들"
   ]
  },
  {
   "cell_type": "code",
   "execution_count": 61,
   "metadata": {},
   "outputs": [
    {
     "name": "stdout",
     "output_type": "stream",
     "text": [
      "----------------------------------------------------------\n",
      "EGFR11데이터에서 lung와 관련된 문자들\n",
      "----------------------------------------------------------\n",
      "recurrent\n",
      "advanced\n",
      "(P<0\n",
      "at\n",
      "treated\n",
      "administration\n",
      "Saos2\n",
      "afatinib\n",
      "EGFR-TKI\n",
      "A549\n"
     ]
    },
    {
     "name": "stderr",
     "output_type": "stream",
     "text": [
      "D:\\Users\\rkfksh\\Anaconda3\\lib\\site-packages\\gensim\\matutils.py:737: FutureWarning: Conversion of the second argument of issubdtype from `int` to `np.signedinteger` is deprecated. In future, it will be treated as `np.int32 == np.dtype(int).type`.\n",
      "  if np.issubdtype(vec.dtype, np.int):\n"
     ]
    }
   ],
   "source": [
    "import re\n",
    "import pandas as pd\n",
    "import numpy as np\n",
    "from  gensim.models import Word2Vec\n",
    "\n",
    "for i in range(11,11+1):\n",
    "    file = open(\"./Pubmed - EGFR 10th data/\" + str(i) + \".EGFR.txt\",\"r\",errors=\"ignore\")\n",
    "    cancer_data = file.read()\n",
    "    cancer_data = re.split(\"[\\n\\.?]\", cancer_data)\n",
    "\n",
    "    while '' in cancer_data:\n",
    "        cancer_data.remove('')\n",
    "    \n",
    "    Cancer = pd.DataFrame()\n",
    "    Cancer['sentences'] = np.asarray(cancer_data)\n",
    "    Cancer['sentences_seperated'] = Cancer['sentences'].apply(lambda x: x.replace(\",\", \"\"))\n",
    "    Cancer['sentences_seperated'] = Cancer['sentences_seperated'].apply(lambda x: x.replace(\";\", \"\"))\n",
    "    Cancer['sentences_seperated'] = Cancer['sentences_seperated'].apply(lambda x: x.replace(\"\\\"\", \"\"))\n",
    "    Cancer['sentences_seperated'] = Cancer['sentences_seperated'].apply(lambda x: x.split())\n",
    "\n",
    "    model = Word2Vec(Cancer['sentences_seperated'], hs=1, size=300, min_count=10)\n",
    "\n",
    "    print(\"----------------------------------------------------------\")\n",
    "    print(\"EGFR\" + str(i) +\"데이터에서 lung와 관련된 문자들\")\n",
    "    print(\"----------------------------------------------------------\")\n",
    "    for word, score in model.wv.most_similar(\"lung\"):   # cancer0에서 cancer에 대한 연관성\n",
    "        print(word)\n",
    "    file.close()\n"
   ]
  },
  {
   "cell_type": "markdown",
   "metadata": {},
   "source": [
    "# SCLC 데이터 1~10 개별 데이터에서 SCLC와 관련된 단어들"
   ]
  },
  {
   "cell_type": "code",
   "execution_count": 63,
   "metadata": {},
   "outputs": [
    {
     "name": "stdout",
     "output_type": "stream",
     "text": [
      "----------------------------------------------------------\n",
      "SCLC1데이터에서 SCLC와 관련된 문자들\n",
      "----------------------------------------------------------\n"
     ]
    },
    {
     "ename": "KeyError",
     "evalue": "\"word 'SCLC' not in vocabulary\"",
     "output_type": "error",
     "traceback": [
      "\u001b[1;31m---------------------------------------------------------------------------\u001b[0m",
      "\u001b[1;31mKeyError\u001b[0m                                  Traceback (most recent call last)",
      "\u001b[1;32m<ipython-input-63-41e5d0b2d29a>\u001b[0m in \u001b[0;36m<module>\u001b[1;34m()\u001b[0m\n\u001b[0;32m     24\u001b[0m     \u001b[0mprint\u001b[0m\u001b[1;33m(\u001b[0m\u001b[1;34m\"SCLC\"\u001b[0m \u001b[1;33m+\u001b[0m \u001b[0mstr\u001b[0m\u001b[1;33m(\u001b[0m\u001b[0mi\u001b[0m\u001b[1;33m)\u001b[0m \u001b[1;33m+\u001b[0m\u001b[1;34m\"데이터에서 SCLC와 관련된 문자들\"\u001b[0m\u001b[1;33m)\u001b[0m\u001b[1;33m\u001b[0m\u001b[0m\n\u001b[0;32m     25\u001b[0m     \u001b[0mprint\u001b[0m\u001b[1;33m(\u001b[0m\u001b[1;34m\"----------------------------------------------------------\"\u001b[0m\u001b[1;33m)\u001b[0m\u001b[1;33m\u001b[0m\u001b[0m\n\u001b[1;32m---> 26\u001b[1;33m     \u001b[1;32mfor\u001b[0m \u001b[0mword\u001b[0m\u001b[1;33m,\u001b[0m \u001b[0mscore\u001b[0m \u001b[1;32min\u001b[0m \u001b[0mmodel\u001b[0m\u001b[1;33m.\u001b[0m\u001b[0mwv\u001b[0m\u001b[1;33m.\u001b[0m\u001b[0mmost_similar\u001b[0m\u001b[1;33m(\u001b[0m\u001b[1;34m\"SCLC\"\u001b[0m\u001b[1;33m)\u001b[0m\u001b[1;33m:\u001b[0m   \u001b[1;31m# cancer0에서 cancer에 대한 연관성\u001b[0m\u001b[1;33m\u001b[0m\u001b[0m\n\u001b[0m\u001b[0;32m     27\u001b[0m         \u001b[0mprint\u001b[0m\u001b[1;33m(\u001b[0m\u001b[0mword\u001b[0m\u001b[1;33m)\u001b[0m\u001b[1;33m\u001b[0m\u001b[0m\n\u001b[0;32m     28\u001b[0m     \u001b[0mfile\u001b[0m\u001b[1;33m.\u001b[0m\u001b[0mclose\u001b[0m\u001b[1;33m(\u001b[0m\u001b[1;33m)\u001b[0m\u001b[1;33m\u001b[0m\u001b[0m\n",
      "\u001b[1;32mD:\\Users\\rkfksh\\Anaconda3\\lib\\site-packages\\gensim\\models\\keyedvectors.py\u001b[0m in \u001b[0;36mmost_similar\u001b[1;34m(self, positive, negative, topn, restrict_vocab, indexer)\u001b[0m\n\u001b[0;32m    528\u001b[0m                 \u001b[0mmean\u001b[0m\u001b[1;33m.\u001b[0m\u001b[0mappend\u001b[0m\u001b[1;33m(\u001b[0m\u001b[0mweight\u001b[0m \u001b[1;33m*\u001b[0m \u001b[0mword\u001b[0m\u001b[1;33m)\u001b[0m\u001b[1;33m\u001b[0m\u001b[0m\n\u001b[0;32m    529\u001b[0m             \u001b[1;32melse\u001b[0m\u001b[1;33m:\u001b[0m\u001b[1;33m\u001b[0m\u001b[0m\n\u001b[1;32m--> 530\u001b[1;33m                 \u001b[0mmean\u001b[0m\u001b[1;33m.\u001b[0m\u001b[0mappend\u001b[0m\u001b[1;33m(\u001b[0m\u001b[0mweight\u001b[0m \u001b[1;33m*\u001b[0m \u001b[0mself\u001b[0m\u001b[1;33m.\u001b[0m\u001b[0mword_vec\u001b[0m\u001b[1;33m(\u001b[0m\u001b[0mword\u001b[0m\u001b[1;33m,\u001b[0m \u001b[0muse_norm\u001b[0m\u001b[1;33m=\u001b[0m\u001b[1;32mTrue\u001b[0m\u001b[1;33m)\u001b[0m\u001b[1;33m)\u001b[0m\u001b[1;33m\u001b[0m\u001b[0m\n\u001b[0m\u001b[0;32m    531\u001b[0m                 \u001b[1;32mif\u001b[0m \u001b[0mword\u001b[0m \u001b[1;32min\u001b[0m \u001b[0mself\u001b[0m\u001b[1;33m.\u001b[0m\u001b[0mvocab\u001b[0m\u001b[1;33m:\u001b[0m\u001b[1;33m\u001b[0m\u001b[0m\n\u001b[0;32m    532\u001b[0m                     \u001b[0mall_words\u001b[0m\u001b[1;33m.\u001b[0m\u001b[0madd\u001b[0m\u001b[1;33m(\u001b[0m\u001b[0mself\u001b[0m\u001b[1;33m.\u001b[0m\u001b[0mvocab\u001b[0m\u001b[1;33m[\u001b[0m\u001b[0mword\u001b[0m\u001b[1;33m]\u001b[0m\u001b[1;33m.\u001b[0m\u001b[0mindex\u001b[0m\u001b[1;33m)\u001b[0m\u001b[1;33m\u001b[0m\u001b[0m\n",
      "\u001b[1;32mD:\\Users\\rkfksh\\Anaconda3\\lib\\site-packages\\gensim\\models\\keyedvectors.py\u001b[0m in \u001b[0;36mword_vec\u001b[1;34m(self, word, use_norm)\u001b[0m\n\u001b[0;32m    449\u001b[0m             \u001b[1;32mreturn\u001b[0m \u001b[0mresult\u001b[0m\u001b[1;33m\u001b[0m\u001b[0m\n\u001b[0;32m    450\u001b[0m         \u001b[1;32melse\u001b[0m\u001b[1;33m:\u001b[0m\u001b[1;33m\u001b[0m\u001b[0m\n\u001b[1;32m--> 451\u001b[1;33m             \u001b[1;32mraise\u001b[0m \u001b[0mKeyError\u001b[0m\u001b[1;33m(\u001b[0m\u001b[1;34m\"word '%s' not in vocabulary\"\u001b[0m \u001b[1;33m%\u001b[0m \u001b[0mword\u001b[0m\u001b[1;33m)\u001b[0m\u001b[1;33m\u001b[0m\u001b[0m\n\u001b[0m\u001b[0;32m    452\u001b[0m \u001b[1;33m\u001b[0m\u001b[0m\n\u001b[0;32m    453\u001b[0m     \u001b[1;32mdef\u001b[0m \u001b[0mget_vector\u001b[0m\u001b[1;33m(\u001b[0m\u001b[0mself\u001b[0m\u001b[1;33m,\u001b[0m \u001b[0mword\u001b[0m\u001b[1;33m)\u001b[0m\u001b[1;33m:\u001b[0m\u001b[1;33m\u001b[0m\u001b[0m\n",
      "\u001b[1;31mKeyError\u001b[0m: \"word 'SCLC' not in vocabulary\""
     ]
    }
   ],
   "source": [
    "import re\n",
    "import pandas as pd\n",
    "import numpy as np\n",
    "from  gensim.models import Word2Vec\n",
    "\n",
    "for i in range(1,10+1):\n",
    "    file = open(\"./Pubmed - SCLC 10th data/\" + str(i) + \".SCLC.txt\",\"r\",errors=\"ignore\")\n",
    "    cancer_data = file.read()\n",
    "    cancer_data = re.split(\"[\\n\\.?]\", cancer_data)\n",
    "\n",
    "    while '' in cancer_data:\n",
    "        cancer_data.remove('')\n",
    "    \n",
    "    Cancer = pd.DataFrame()\n",
    "    Cancer['sentences'] = np.asarray(cancer_data)\n",
    "    Cancer['sentences_seperated'] = Cancer['sentences'].apply(lambda x: x.replace(\",\", \"\"))\n",
    "    Cancer['sentences_seperated'] = Cancer['sentences_seperated'].apply(lambda x: x.replace(\";\", \"\"))\n",
    "    Cancer['sentences_seperated'] = Cancer['sentences_seperated'].apply(lambda x: x.replace(\"\\\"\", \"\"))\n",
    "    Cancer['sentences_seperated'] = Cancer['sentences_seperated'].apply(lambda x: x.split())\n",
    "\n",
    "    model = Word2Vec(Cancer['sentences_seperated'], hs=1, size=300, min_count=10)\n",
    "\n",
    "    print(\"----------------------------------------------------------\")\n",
    "    print(\"SCLC\" + str(i) +\"데이터에서 SCLC와 관련된 문자들\")\n",
    "    print(\"----------------------------------------------------------\")\n",
    "    for word, score in model.wv.most_similar(\"SCLC\"):   # cancer0에서 cancer에 대한 연관성\n",
    "        print(word)\n",
    "    file.close()\n"
   ]
  },
  {
   "cell_type": "markdown",
   "metadata": {},
   "source": [
    "# SCLC 데이터 합본에서 SCLC 관련 단어들"
   ]
  },
  {
   "cell_type": "code",
   "execution_count": 86,
   "metadata": {},
   "outputs": [
    {
     "name": "stdout",
     "output_type": "stream",
     "text": [
      "----------------------------------------------------------\n",
      "SCLC11데이터에서 SCLC와 관련된 문자들\n",
      "----------------------------------------------------------\n",
      "PRR11\n",
      "present\n",
      "PCI\n",
      "tumor\n",
      "after\n",
      "those\n",
      "to\n",
      "correlation\n",
      "for\n",
      "IL-8\n"
     ]
    },
    {
     "name": "stderr",
     "output_type": "stream",
     "text": [
      "D:\\Users\\rkfksh\\Anaconda3\\lib\\site-packages\\gensim\\matutils.py:737: FutureWarning: Conversion of the second argument of issubdtype from `int` to `np.signedinteger` is deprecated. In future, it will be treated as `np.int32 == np.dtype(int).type`.\n",
      "  if np.issubdtype(vec.dtype, np.int):\n"
     ]
    }
   ],
   "source": [
    "import re\n",
    "import pandas as pd\n",
    "import numpy as np\n",
    "from  gensim.models import Word2Vec\n",
    "\n",
    "for i in range(11,11+1):\n",
    "    file = open(\"./Pubmed - SCLC 10th data/\" + str(i) + \".SCLC.txt\",\"r\",errors=\"ignore\")\n",
    "    cancer_data = file.read()\n",
    "    cancer_data = re.split(\"[\\n\\.?]\", cancer_data)\n",
    "\n",
    "    while '' in cancer_data:\n",
    "        cancer_data.remove('')\n",
    "    \n",
    "    Cancer = pd.DataFrame()\n",
    "    Cancer['sentences'] = np.asarray(cancer_data)\n",
    "    Cancer['sentences_seperated'] = Cancer['sentences'].apply(lambda x: x.replace(\",\", \"\"))\n",
    "    Cancer['sentences_seperated'] = Cancer['sentences_seperated'].apply(lambda x: x.replace(\";\", \"\"))\n",
    "    Cancer['sentences_seperated'] = Cancer['sentences_seperated'].apply(lambda x: x.replace(\"\\\"\", \"\"))\n",
    "    Cancer['sentences_seperated'] = Cancer['sentences_seperated'].apply(lambda x: x.split())\n",
    "\n",
    "    model = Word2Vec(Cancer['sentences_seperated'], hs=1, size=300, min_count=10)\n",
    "\n",
    "    print(\"----------------------------------------------------------\")\n",
    "    print(\"SCLC\" + str(i) +\"데이터에서 SCLC와 관련된 문자들\")\n",
    "    print(\"----------------------------------------------------------\")\n",
    "    for word, score in model.wv.most_similar(\"SCLC\"):   # cancer0에서 cancer에 대한 연관성\n",
    "        print(word)\n",
    "    file.close()\n"
   ]
  },
  {
   "cell_type": "markdown",
   "metadata": {},
   "source": [
    "# SCLC 데이터 합본에서 LUNG 관련 단어들"
   ]
  },
  {
   "cell_type": "code",
   "execution_count": 179,
   "metadata": {},
   "outputs": [
    {
     "name": "stdout",
     "output_type": "stream",
     "text": [
      "----------------------------------------------------------\n",
      "SCLC11데이터에서 lung와 관련된 문자들\n",
      "----------------------------------------------------------\n",
      "transfection\n",
      "stem\n",
      "number\n",
      "H1299\n",
      "terms\n",
      "(SCLC)\n",
      "age\n",
      "ng/mL\n",
      "“lung\n",
      "(%)\n"
     ]
    },
    {
     "name": "stderr",
     "output_type": "stream",
     "text": [
      "D:\\Users\\rkfksh\\Anaconda3\\lib\\site-packages\\gensim\\matutils.py:737: FutureWarning: Conversion of the second argument of issubdtype from `int` to `np.signedinteger` is deprecated. In future, it will be treated as `np.int32 == np.dtype(int).type`.\n",
      "  if np.issubdtype(vec.dtype, np.int):\n"
     ]
    }
   ],
   "source": [
    "import re\n",
    "import pandas as pd\n",
    "import numpy as np\n",
    "from  gensim.models import Word2Vec\n",
    "\n",
    "for i in range(11,11+1):\n",
    "    file = open(\"./Pubmed - SCLC 10th data/\" + str(i) + \".SCLC.txt\",\"r\",errors=\"ignore\")\n",
    "    cancer_data = file.read()\n",
    "    cancer_data = re.split(\"[\\n\\.?]\", cancer_data)\n",
    "\n",
    "    while '' in cancer_data:\n",
    "        cancer_data.remove('')\n",
    "    \n",
    "    Cancer = pd.DataFrame()\n",
    "    Cancer['sentences'] = np.asarray(cancer_data)\n",
    "    Cancer['sentences_seperated'] = Cancer['sentences'].apply(lambda x: x.replace(\",\", \"\"))\n",
    "    Cancer['sentences_seperated'] = Cancer['sentences_seperated'].apply(lambda x: x.replace(\";\", \"\"))\n",
    "    Cancer['sentences_seperated'] = Cancer['sentences_seperated'].apply(lambda x: x.replace(\"\\\"\", \"\"))\n",
    "    Cancer['sentences_seperated'] = Cancer['sentences_seperated'].apply(lambda x: x.split())\n",
    "\n",
    "    model = Word2Vec(Cancer['sentences_seperated'], hs=1, size=300, min_count=10)\n",
    "\n",
    "    print(\"----------------------------------------------------------\")\n",
    "    print(\"SCLC\" + str(i) +\"데이터에서 lung와 관련된 문자들\")\n",
    "    print(\"----------------------------------------------------------\")\n",
    "    for word, score in model.wv.most_similar(\"lung\"):   # cancer0에서 cancer에 대한 연관성\n",
    "        print(word)\n",
    "    file.close()\n"
   ]
  },
  {
   "cell_type": "markdown",
   "metadata": {},
   "source": [
    "# BT20 데이터 1~10 개별 데이터에서 BT20와 관련된 단어들"
   ]
  },
  {
   "cell_type": "code",
   "execution_count": 180,
   "metadata": {},
   "outputs": [
    {
     "name": "stdout",
     "output_type": "stream",
     "text": [
      "----------------------------------------------------------\n",
      "BT201데이터에서 BT20와 관련된 문자들\n",
      "----------------------------------------------------------\n"
     ]
    },
    {
     "ename": "KeyError",
     "evalue": "\"word 'BT20' not in vocabulary\"",
     "output_type": "error",
     "traceback": [
      "\u001b[1;31m---------------------------------------------------------------------------\u001b[0m",
      "\u001b[1;31mKeyError\u001b[0m                                  Traceback (most recent call last)",
      "\u001b[1;32m<ipython-input-180-4b505e0a3c82>\u001b[0m in \u001b[0;36m<module>\u001b[1;34m()\u001b[0m\n\u001b[0;32m     24\u001b[0m     \u001b[0mprint\u001b[0m\u001b[1;33m(\u001b[0m\u001b[1;34m\"BT20\"\u001b[0m \u001b[1;33m+\u001b[0m \u001b[0mstr\u001b[0m\u001b[1;33m(\u001b[0m\u001b[0mi\u001b[0m\u001b[1;33m)\u001b[0m \u001b[1;33m+\u001b[0m\u001b[1;34m\"데이터에서 BT20와 관련된 문자들\"\u001b[0m\u001b[1;33m)\u001b[0m\u001b[1;33m\u001b[0m\u001b[0m\n\u001b[0;32m     25\u001b[0m     \u001b[0mprint\u001b[0m\u001b[1;33m(\u001b[0m\u001b[1;34m\"----------------------------------------------------------\"\u001b[0m\u001b[1;33m)\u001b[0m\u001b[1;33m\u001b[0m\u001b[0m\n\u001b[1;32m---> 26\u001b[1;33m     \u001b[1;32mfor\u001b[0m \u001b[0mword\u001b[0m\u001b[1;33m,\u001b[0m \u001b[0mscore\u001b[0m \u001b[1;32min\u001b[0m \u001b[0mmodel\u001b[0m\u001b[1;33m.\u001b[0m\u001b[0mwv\u001b[0m\u001b[1;33m.\u001b[0m\u001b[0mmost_similar\u001b[0m\u001b[1;33m(\u001b[0m\u001b[1;34m\"BT20\"\u001b[0m\u001b[1;33m)\u001b[0m\u001b[1;33m:\u001b[0m   \u001b[1;31m# cancer0에서 cancer에 대한 연관성\u001b[0m\u001b[1;33m\u001b[0m\u001b[0m\n\u001b[0m\u001b[0;32m     27\u001b[0m         \u001b[0mprint\u001b[0m\u001b[1;33m(\u001b[0m\u001b[0mword\u001b[0m\u001b[1;33m)\u001b[0m\u001b[1;33m\u001b[0m\u001b[0m\n\u001b[0;32m     28\u001b[0m     \u001b[0mfile\u001b[0m\u001b[1;33m.\u001b[0m\u001b[0mclose\u001b[0m\u001b[1;33m(\u001b[0m\u001b[1;33m)\u001b[0m\u001b[1;33m\u001b[0m\u001b[0m\n",
      "\u001b[1;32mD:\\Users\\rkfksh\\Anaconda3\\lib\\site-packages\\gensim\\models\\keyedvectors.py\u001b[0m in \u001b[0;36mmost_similar\u001b[1;34m(self, positive, negative, topn, restrict_vocab, indexer)\u001b[0m\n\u001b[0;32m    528\u001b[0m                 \u001b[0mmean\u001b[0m\u001b[1;33m.\u001b[0m\u001b[0mappend\u001b[0m\u001b[1;33m(\u001b[0m\u001b[0mweight\u001b[0m \u001b[1;33m*\u001b[0m \u001b[0mword\u001b[0m\u001b[1;33m)\u001b[0m\u001b[1;33m\u001b[0m\u001b[0m\n\u001b[0;32m    529\u001b[0m             \u001b[1;32melse\u001b[0m\u001b[1;33m:\u001b[0m\u001b[1;33m\u001b[0m\u001b[0m\n\u001b[1;32m--> 530\u001b[1;33m                 \u001b[0mmean\u001b[0m\u001b[1;33m.\u001b[0m\u001b[0mappend\u001b[0m\u001b[1;33m(\u001b[0m\u001b[0mweight\u001b[0m \u001b[1;33m*\u001b[0m \u001b[0mself\u001b[0m\u001b[1;33m.\u001b[0m\u001b[0mword_vec\u001b[0m\u001b[1;33m(\u001b[0m\u001b[0mword\u001b[0m\u001b[1;33m,\u001b[0m \u001b[0muse_norm\u001b[0m\u001b[1;33m=\u001b[0m\u001b[1;32mTrue\u001b[0m\u001b[1;33m)\u001b[0m\u001b[1;33m)\u001b[0m\u001b[1;33m\u001b[0m\u001b[0m\n\u001b[0m\u001b[0;32m    531\u001b[0m                 \u001b[1;32mif\u001b[0m \u001b[0mword\u001b[0m \u001b[1;32min\u001b[0m \u001b[0mself\u001b[0m\u001b[1;33m.\u001b[0m\u001b[0mvocab\u001b[0m\u001b[1;33m:\u001b[0m\u001b[1;33m\u001b[0m\u001b[0m\n\u001b[0;32m    532\u001b[0m                     \u001b[0mall_words\u001b[0m\u001b[1;33m.\u001b[0m\u001b[0madd\u001b[0m\u001b[1;33m(\u001b[0m\u001b[0mself\u001b[0m\u001b[1;33m.\u001b[0m\u001b[0mvocab\u001b[0m\u001b[1;33m[\u001b[0m\u001b[0mword\u001b[0m\u001b[1;33m]\u001b[0m\u001b[1;33m.\u001b[0m\u001b[0mindex\u001b[0m\u001b[1;33m)\u001b[0m\u001b[1;33m\u001b[0m\u001b[0m\n",
      "\u001b[1;32mD:\\Users\\rkfksh\\Anaconda3\\lib\\site-packages\\gensim\\models\\keyedvectors.py\u001b[0m in \u001b[0;36mword_vec\u001b[1;34m(self, word, use_norm)\u001b[0m\n\u001b[0;32m    449\u001b[0m             \u001b[1;32mreturn\u001b[0m \u001b[0mresult\u001b[0m\u001b[1;33m\u001b[0m\u001b[0m\n\u001b[0;32m    450\u001b[0m         \u001b[1;32melse\u001b[0m\u001b[1;33m:\u001b[0m\u001b[1;33m\u001b[0m\u001b[0m\n\u001b[1;32m--> 451\u001b[1;33m             \u001b[1;32mraise\u001b[0m \u001b[0mKeyError\u001b[0m\u001b[1;33m(\u001b[0m\u001b[1;34m\"word '%s' not in vocabulary\"\u001b[0m \u001b[1;33m%\u001b[0m \u001b[0mword\u001b[0m\u001b[1;33m)\u001b[0m\u001b[1;33m\u001b[0m\u001b[0m\n\u001b[0m\u001b[0;32m    452\u001b[0m \u001b[1;33m\u001b[0m\u001b[0m\n\u001b[0;32m    453\u001b[0m     \u001b[1;32mdef\u001b[0m \u001b[0mget_vector\u001b[0m\u001b[1;33m(\u001b[0m\u001b[0mself\u001b[0m\u001b[1;33m,\u001b[0m \u001b[0mword\u001b[0m\u001b[1;33m)\u001b[0m\u001b[1;33m:\u001b[0m\u001b[1;33m\u001b[0m\u001b[0m\n",
      "\u001b[1;31mKeyError\u001b[0m: \"word 'BT20' not in vocabulary\""
     ]
    }
   ],
   "source": [
    "import re\n",
    "import pandas as pd\n",
    "import numpy as np\n",
    "from  gensim.models import Word2Vec\n",
    "\n",
    "for i in range(1,10+1):\n",
    "    file = open(\"./Pubmed - BT20 10th data/\" + str(i) + \".BT20.txt\",\"r\",errors=\"ignore\")\n",
    "    cancer_data = file.read()\n",
    "    cancer_data = re.split(\"[\\n\\.?]\", cancer_data)\n",
    "\n",
    "    while '' in cancer_data:\n",
    "        cancer_data.remove('')\n",
    "    \n",
    "    Cancer = pd.DataFrame()\n",
    "    Cancer['sentences'] = np.asarray(cancer_data)\n",
    "    Cancer['sentences_seperated'] = Cancer['sentences'].apply(lambda x: x.replace(\",\", \"\"))\n",
    "    Cancer['sentences_seperated'] = Cancer['sentences_seperated'].apply(lambda x: x.replace(\";\", \"\"))\n",
    "    Cancer['sentences_seperated'] = Cancer['sentences_seperated'].apply(lambda x: x.replace(\"\\\"\", \"\"))\n",
    "    Cancer['sentences_seperated'] = Cancer['sentences_seperated'].apply(lambda x: x.split())\n",
    "\n",
    "    model = Word2Vec(Cancer['sentences_seperated'], hs=1, size=300, min_count=10)\n",
    "\n",
    "    print(\"----------------------------------------------------------\")\n",
    "    print(\"BT20\" + str(i) +\"데이터에서 BT20와 관련된 문자들\")\n",
    "    print(\"----------------------------------------------------------\")\n",
    "    for word, score in model.wv.most_similar(\"BT20\"):   # cancer0에서 cancer에 대한 연관성\n",
    "        print(word)\n",
    "    file.close()\n"
   ]
  },
  {
   "cell_type": "markdown",
   "metadata": {},
   "source": [
    "# BT20 데이터 합본에서 BT20 관련 단어들"
   ]
  },
  {
   "cell_type": "code",
   "execution_count": 186,
   "metadata": {},
   "outputs": [
    {
     "name": "stdout",
     "output_type": "stream",
     "text": [
      "----------------------------------------------------------\n",
      "BT2011데이터에서 BT20와 관련된 문자들\n",
      "----------------------------------------------------------\n",
      "MCF-7\n",
      "TAMR\n",
      "ZnR/GPR39\n",
      "but\n",
      "metabolism\n",
      "treated\n",
      "in\n",
      "TNBC\n",
      "reduced\n",
      "compared\n"
     ]
    },
    {
     "name": "stderr",
     "output_type": "stream",
     "text": [
      "D:\\Users\\rkfksh\\Anaconda3\\lib\\site-packages\\gensim\\matutils.py:737: FutureWarning: Conversion of the second argument of issubdtype from `int` to `np.signedinteger` is deprecated. In future, it will be treated as `np.int32 == np.dtype(int).type`.\n",
      "  if np.issubdtype(vec.dtype, np.int):\n"
     ]
    }
   ],
   "source": [
    "import re\n",
    "import pandas as pd\n",
    "import numpy as np\n",
    "from  gensim.models import Word2Vec\n",
    "\n",
    "for i in range(11,11+1):\n",
    "    file = open(\"./Pubmed - BT20 10th data/\" + str(i) + \".BT20.txt\",\"r\",errors=\"ignore\")\n",
    "    cancer_data = file.read()\n",
    "    cancer_data = re.split(\"[\\n\\.?]\", cancer_data)\n",
    "\n",
    "    while '' in cancer_data:\n",
    "        cancer_data.remove('')\n",
    "    \n",
    "    Cancer = pd.DataFrame()\n",
    "    Cancer['sentences'] = np.asarray(cancer_data)\n",
    "    Cancer['sentences_seperated'] = Cancer['sentences'].apply(lambda x: x.replace(\",\", \"\"))\n",
    "    Cancer['sentences_seperated'] = Cancer['sentences_seperated'].apply(lambda x: x.replace(\";\", \"\"))\n",
    "    Cancer['sentences_seperated'] = Cancer['sentences_seperated'].apply(lambda x: x.replace(\"\\\"\", \"\"))\n",
    "    Cancer['sentences_seperated'] = Cancer['sentences_seperated'].apply(lambda x: x.split())\n",
    "\n",
    "    model = Word2Vec(Cancer['sentences_seperated'], hs=1, size=300, min_count=10)\n",
    "\n",
    "    print(\"----------------------------------------------------------\")\n",
    "    print(\"BT20\" + str(i) +\"데이터에서 BT20와 관련된 문자들\")\n",
    "    print(\"----------------------------------------------------------\")\n",
    "    for word, score in model.wv.most_similar(\"BT20\"):   # cancer0에서 cancer에 대한 연관성\n",
    "        print(word)\n",
    "    file.close()\n"
   ]
  },
  {
   "cell_type": "markdown",
   "metadata": {},
   "source": [
    "# BT20 데이터 합본에서 breast 관련 단어들"
   ]
  },
  {
   "cell_type": "code",
   "execution_count": 194,
   "metadata": {},
   "outputs": [
    {
     "name": "stdout",
     "output_type": "stream",
     "text": [
      "----------------------------------------------------------\n",
      "BT2011데이터에서 breast와 관련된 문자들\n",
      "----------------------------------------------------------\n",
      "lung\n",
      "carcinoma\n",
      "cancer\n",
      "subtypes\n",
      "human\n",
      "Rucaparib\n",
      "proliferation\n",
      "subtype\n",
      "line\n",
      "SIK3\n"
     ]
    },
    {
     "name": "stderr",
     "output_type": "stream",
     "text": [
      "D:\\Users\\rkfksh\\Anaconda3\\lib\\site-packages\\gensim\\matutils.py:737: FutureWarning: Conversion of the second argument of issubdtype from `int` to `np.signedinteger` is deprecated. In future, it will be treated as `np.int32 == np.dtype(int).type`.\n",
      "  if np.issubdtype(vec.dtype, np.int):\n"
     ]
    }
   ],
   "source": [
    "import re\n",
    "import pandas as pd\n",
    "import numpy as np\n",
    "from  gensim.models import Word2Vec\n",
    "\n",
    "for i in range(11,11+1):\n",
    "    file = open(\"./Pubmed - BT20 10th data/\" + str(i) + \".BT20.txt\",\"r\",errors=\"ignore\")\n",
    "    cancer_data = file.read()\n",
    "    cancer_data = re.split(\"[\\n\\.?]\", cancer_data)\n",
    "\n",
    "    while '' in cancer_data:\n",
    "        cancer_data.remove('')\n",
    "    \n",
    "    Cancer = pd.DataFrame()\n",
    "    Cancer['sentences'] = np.asarray(cancer_data)\n",
    "    Cancer['sentences_seperated'] = Cancer['sentences'].apply(lambda x: x.replace(\",\", \"\"))\n",
    "    Cancer['sentences_seperated'] = Cancer['sentences_seperated'].apply(lambda x: x.replace(\";\", \"\"))\n",
    "    Cancer['sentences_seperated'] = Cancer['sentences_seperated'].apply(lambda x: x.replace(\"\\\"\", \"\"))\n",
    "    Cancer['sentences_seperated'] = Cancer['sentences_seperated'].apply(lambda x: x.split())\n",
    "\n",
    "    model = Word2Vec(Cancer['sentences_seperated'], hs=1, size=300, min_count=10)\n",
    "\n",
    "    print(\"----------------------------------------------------------\")\n",
    "    print(\"BT20\" + str(i) +\"데이터에서 breast와 관련된 문자들\")\n",
    "    print(\"----------------------------------------------------------\")\n",
    "    for word, score in model.wv.most_similar(\"breast\"):   # cancer0에서 cancer에 대한 연관성\n",
    "        print(word)\n",
    "    file.close()\n"
   ]
  },
  {
   "cell_type": "markdown",
   "metadata": {},
   "source": [
    "# CRC 데이터 1~10 개별 데이터에서 CRC와 관련된 단어들"
   ]
  },
  {
   "cell_type": "code",
   "execution_count": 195,
   "metadata": {},
   "outputs": [
    {
     "name": "stdout",
     "output_type": "stream",
     "text": [
      "----------------------------------------------------------\n",
      "CRC1데이터에서 CRC와 관련된 문자들\n",
      "----------------------------------------------------------\n"
     ]
    },
    {
     "ename": "KeyError",
     "evalue": "\"word 'CRC' not in vocabulary\"",
     "output_type": "error",
     "traceback": [
      "\u001b[1;31m---------------------------------------------------------------------------\u001b[0m",
      "\u001b[1;31mKeyError\u001b[0m                                  Traceback (most recent call last)",
      "\u001b[1;32m<ipython-input-195-eb6500f00151>\u001b[0m in \u001b[0;36m<module>\u001b[1;34m()\u001b[0m\n\u001b[0;32m     24\u001b[0m     \u001b[0mprint\u001b[0m\u001b[1;33m(\u001b[0m\u001b[1;34m\"CRC\"\u001b[0m \u001b[1;33m+\u001b[0m \u001b[0mstr\u001b[0m\u001b[1;33m(\u001b[0m\u001b[0mi\u001b[0m\u001b[1;33m)\u001b[0m \u001b[1;33m+\u001b[0m\u001b[1;34m\"데이터에서 CRC와 관련된 문자들\"\u001b[0m\u001b[1;33m)\u001b[0m\u001b[1;33m\u001b[0m\u001b[0m\n\u001b[0;32m     25\u001b[0m     \u001b[0mprint\u001b[0m\u001b[1;33m(\u001b[0m\u001b[1;34m\"----------------------------------------------------------\"\u001b[0m\u001b[1;33m)\u001b[0m\u001b[1;33m\u001b[0m\u001b[0m\n\u001b[1;32m---> 26\u001b[1;33m     \u001b[1;32mfor\u001b[0m \u001b[0mword\u001b[0m\u001b[1;33m,\u001b[0m \u001b[0mscore\u001b[0m \u001b[1;32min\u001b[0m \u001b[0mmodel\u001b[0m\u001b[1;33m.\u001b[0m\u001b[0mwv\u001b[0m\u001b[1;33m.\u001b[0m\u001b[0mmost_similar\u001b[0m\u001b[1;33m(\u001b[0m\u001b[1;34m\"CRC\"\u001b[0m\u001b[1;33m)\u001b[0m\u001b[1;33m:\u001b[0m   \u001b[1;31m# cancer0에서 cancer에 대한 연관성\u001b[0m\u001b[1;33m\u001b[0m\u001b[0m\n\u001b[0m\u001b[0;32m     27\u001b[0m         \u001b[0mprint\u001b[0m\u001b[1;33m(\u001b[0m\u001b[0mword\u001b[0m\u001b[1;33m)\u001b[0m\u001b[1;33m\u001b[0m\u001b[0m\n\u001b[0;32m     28\u001b[0m     \u001b[0mfile\u001b[0m\u001b[1;33m.\u001b[0m\u001b[0mclose\u001b[0m\u001b[1;33m(\u001b[0m\u001b[1;33m)\u001b[0m\u001b[1;33m\u001b[0m\u001b[0m\n",
      "\u001b[1;32mD:\\Users\\rkfksh\\Anaconda3\\lib\\site-packages\\gensim\\models\\keyedvectors.py\u001b[0m in \u001b[0;36mmost_similar\u001b[1;34m(self, positive, negative, topn, restrict_vocab, indexer)\u001b[0m\n\u001b[0;32m    528\u001b[0m                 \u001b[0mmean\u001b[0m\u001b[1;33m.\u001b[0m\u001b[0mappend\u001b[0m\u001b[1;33m(\u001b[0m\u001b[0mweight\u001b[0m \u001b[1;33m*\u001b[0m \u001b[0mword\u001b[0m\u001b[1;33m)\u001b[0m\u001b[1;33m\u001b[0m\u001b[0m\n\u001b[0;32m    529\u001b[0m             \u001b[1;32melse\u001b[0m\u001b[1;33m:\u001b[0m\u001b[1;33m\u001b[0m\u001b[0m\n\u001b[1;32m--> 530\u001b[1;33m                 \u001b[0mmean\u001b[0m\u001b[1;33m.\u001b[0m\u001b[0mappend\u001b[0m\u001b[1;33m(\u001b[0m\u001b[0mweight\u001b[0m \u001b[1;33m*\u001b[0m \u001b[0mself\u001b[0m\u001b[1;33m.\u001b[0m\u001b[0mword_vec\u001b[0m\u001b[1;33m(\u001b[0m\u001b[0mword\u001b[0m\u001b[1;33m,\u001b[0m \u001b[0muse_norm\u001b[0m\u001b[1;33m=\u001b[0m\u001b[1;32mTrue\u001b[0m\u001b[1;33m)\u001b[0m\u001b[1;33m)\u001b[0m\u001b[1;33m\u001b[0m\u001b[0m\n\u001b[0m\u001b[0;32m    531\u001b[0m                 \u001b[1;32mif\u001b[0m \u001b[0mword\u001b[0m \u001b[1;32min\u001b[0m \u001b[0mself\u001b[0m\u001b[1;33m.\u001b[0m\u001b[0mvocab\u001b[0m\u001b[1;33m:\u001b[0m\u001b[1;33m\u001b[0m\u001b[0m\n\u001b[0;32m    532\u001b[0m                     \u001b[0mall_words\u001b[0m\u001b[1;33m.\u001b[0m\u001b[0madd\u001b[0m\u001b[1;33m(\u001b[0m\u001b[0mself\u001b[0m\u001b[1;33m.\u001b[0m\u001b[0mvocab\u001b[0m\u001b[1;33m[\u001b[0m\u001b[0mword\u001b[0m\u001b[1;33m]\u001b[0m\u001b[1;33m.\u001b[0m\u001b[0mindex\u001b[0m\u001b[1;33m)\u001b[0m\u001b[1;33m\u001b[0m\u001b[0m\n",
      "\u001b[1;32mD:\\Users\\rkfksh\\Anaconda3\\lib\\site-packages\\gensim\\models\\keyedvectors.py\u001b[0m in \u001b[0;36mword_vec\u001b[1;34m(self, word, use_norm)\u001b[0m\n\u001b[0;32m    449\u001b[0m             \u001b[1;32mreturn\u001b[0m \u001b[0mresult\u001b[0m\u001b[1;33m\u001b[0m\u001b[0m\n\u001b[0;32m    450\u001b[0m         \u001b[1;32melse\u001b[0m\u001b[1;33m:\u001b[0m\u001b[1;33m\u001b[0m\u001b[0m\n\u001b[1;32m--> 451\u001b[1;33m             \u001b[1;32mraise\u001b[0m \u001b[0mKeyError\u001b[0m\u001b[1;33m(\u001b[0m\u001b[1;34m\"word '%s' not in vocabulary\"\u001b[0m \u001b[1;33m%\u001b[0m \u001b[0mword\u001b[0m\u001b[1;33m)\u001b[0m\u001b[1;33m\u001b[0m\u001b[0m\n\u001b[0m\u001b[0;32m    452\u001b[0m \u001b[1;33m\u001b[0m\u001b[0m\n\u001b[0;32m    453\u001b[0m     \u001b[1;32mdef\u001b[0m \u001b[0mget_vector\u001b[0m\u001b[1;33m(\u001b[0m\u001b[0mself\u001b[0m\u001b[1;33m,\u001b[0m \u001b[0mword\u001b[0m\u001b[1;33m)\u001b[0m\u001b[1;33m:\u001b[0m\u001b[1;33m\u001b[0m\u001b[0m\n",
      "\u001b[1;31mKeyError\u001b[0m: \"word 'CRC' not in vocabulary\""
     ]
    }
   ],
   "source": [
    "import re\n",
    "import pandas as pd\n",
    "import numpy as np\n",
    "from  gensim.models import Word2Vec\n",
    "\n",
    "for i in range(1,10+1):\n",
    "    file = open(\"./Pubmed - CRC 10th data/\" + str(i) + \".CRC.txt\",\"r\",errors=\"ignore\")\n",
    "    cancer_data = file.read()\n",
    "    cancer_data = re.split(\"[\\n\\.?]\", cancer_data)\n",
    "\n",
    "    while '' in cancer_data:\n",
    "        cancer_data.remove('')\n",
    "    \n",
    "    Cancer = pd.DataFrame()\n",
    "    Cancer['sentences'] = np.asarray(cancer_data)\n",
    "    Cancer['sentences_seperated'] = Cancer['sentences'].apply(lambda x: x.replace(\",\", \"\"))\n",
    "    Cancer['sentences_seperated'] = Cancer['sentences_seperated'].apply(lambda x: x.replace(\";\", \"\"))\n",
    "    Cancer['sentences_seperated'] = Cancer['sentences_seperated'].apply(lambda x: x.replace(\"\\\"\", \"\"))\n",
    "    Cancer['sentences_seperated'] = Cancer['sentences_seperated'].apply(lambda x: x.split())\n",
    "\n",
    "    model = Word2Vec(Cancer['sentences_seperated'], hs=1, size=300, min_count=10)\n",
    "\n",
    "    print(\"----------------------------------------------------------\")\n",
    "    print(\"CRC\" + str(i) +\"데이터에서 CRC와 관련된 문자들\")\n",
    "    print(\"----------------------------------------------------------\")\n",
    "    for word, score in model.wv.most_similar(\"CRC\"):   # cancer0에서 cancer에 대한 연관성\n",
    "        print(word)\n",
    "    file.close()\n"
   ]
  },
  {
   "cell_type": "markdown",
   "metadata": {},
   "source": [
    "# CRC 데이터 합본에서 CRC 관련 단어들"
   ]
  },
  {
   "cell_type": "code",
   "execution_count": 228,
   "metadata": {},
   "outputs": [
    {
     "name": "stdout",
     "output_type": "stream",
     "text": [
      "----------------------------------------------------------\n",
      "CRC11데이터에서 CRC와 관련된 문자들\n",
      "----------------------------------------------------------\n",
      "compared\n",
      "LS\n",
      "made\n",
      "BGA\n",
      "rates\n",
      "content\n",
      "treatment\n",
      "diagnosis\n",
      "chromosomes\n",
      "impact\n"
     ]
    },
    {
     "name": "stderr",
     "output_type": "stream",
     "text": [
      "D:\\Users\\rkfksh\\Anaconda3\\lib\\site-packages\\gensim\\matutils.py:737: FutureWarning: Conversion of the second argument of issubdtype from `int` to `np.signedinteger` is deprecated. In future, it will be treated as `np.int32 == np.dtype(int).type`.\n",
      "  if np.issubdtype(vec.dtype, np.int):\n"
     ]
    }
   ],
   "source": [
    "import re\n",
    "import pandas as pd\n",
    "import numpy as np\n",
    "from  gensim.models import Word2Vec\n",
    "\n",
    "for i in range(11,11+1):\n",
    "    file = open(\"./Pubmed - CRC 10th data/\" + str(i) + \".CRC.txt\",\"r\",errors=\"ignore\")\n",
    "    cancer_data = file.read()\n",
    "    cancer_data = re.split(\"[\\n\\.?]\", cancer_data)\n",
    "\n",
    "    while '' in cancer_data:\n",
    "        cancer_data.remove('')\n",
    "    \n",
    "    Cancer = pd.DataFrame()\n",
    "    Cancer['sentences'] = np.asarray(cancer_data)\n",
    "    Cancer['sentences_seperated'] = Cancer['sentences'].apply(lambda x: x.replace(\",\", \"\"))\n",
    "    Cancer['sentences_seperated'] = Cancer['sentences_seperated'].apply(lambda x: x.replace(\";\", \"\"))\n",
    "    Cancer['sentences_seperated'] = Cancer['sentences_seperated'].apply(lambda x: x.replace(\"\\\"\", \"\"))\n",
    "    Cancer['sentences_seperated'] = Cancer['sentences_seperated'].apply(lambda x: x.split())\n",
    "\n",
    "    model = Word2Vec(Cancer['sentences_seperated'], hs=1, size=300, min_count=10)\n",
    "\n",
    "    print(\"----------------------------------------------------------\")\n",
    "    print(\"CRC\" + str(i) +\"데이터에서 CRC와 관련된 문자들\")\n",
    "    print(\"----------------------------------------------------------\")\n",
    "    for word, score in model.wv.most_similar(\"CRC\"):   # cancer0에서 cancer에 대한 연관성\n",
    "        print(word)\n",
    "    file.close()\n"
   ]
  },
  {
   "cell_type": "markdown",
   "metadata": {},
   "source": [
    "# CRC 데이터 합본에서 colorectal 관련 단어들"
   ]
  },
  {
   "cell_type": "code",
   "execution_count": 232,
   "metadata": {},
   "outputs": [
    {
     "name": "stdout",
     "output_type": "stream",
     "text": [
      "----------------------------------------------------------\n",
      "CRC11데이터에서 colorectal와 관련된 문자들\n",
      "----------------------------------------------------------\n",
      "copy\n",
      "breast\n",
      "setting\n",
      "(CRC)\n",
      "common\n",
      "Lianrong\n",
      "Colorectal\n",
      "families\n",
      "commonly\n",
      "regions\n"
     ]
    },
    {
     "name": "stderr",
     "output_type": "stream",
     "text": [
      "D:\\Users\\rkfksh\\Anaconda3\\lib\\site-packages\\gensim\\matutils.py:737: FutureWarning: Conversion of the second argument of issubdtype from `int` to `np.signedinteger` is deprecated. In future, it will be treated as `np.int32 == np.dtype(int).type`.\n",
      "  if np.issubdtype(vec.dtype, np.int):\n"
     ]
    }
   ],
   "source": [
    "import re\n",
    "import pandas as pd\n",
    "import numpy as np\n",
    "from  gensim.models import Word2Vec\n",
    "\n",
    "for i in range(11,11+1):\n",
    "    file = open(\"./Pubmed - CRC 10th data/\" + str(i) + \".CRC.txt\",\"r\",errors=\"ignore\")\n",
    "    cancer_data = file.read()\n",
    "    cancer_data = re.split(\"[\\n\\.?]\", cancer_data)\n",
    "\n",
    "    while '' in cancer_data:\n",
    "        cancer_data.remove('')\n",
    "    \n",
    "    Cancer = pd.DataFrame()\n",
    "    Cancer['sentences'] = np.asarray(cancer_data)\n",
    "    Cancer['sentences_seperated'] = Cancer['sentences'].apply(lambda x: x.replace(\",\", \"\"))\n",
    "    Cancer['sentences_seperated'] = Cancer['sentences_seperated'].apply(lambda x: x.replace(\";\", \"\"))\n",
    "    Cancer['sentences_seperated'] = Cancer['sentences_seperated'].apply(lambda x: x.replace(\"\\\"\", \"\"))\n",
    "    Cancer['sentences_seperated'] = Cancer['sentences_seperated'].apply(lambda x: x.split())\n",
    "\n",
    "    model = Word2Vec(Cancer['sentences_seperated'], hs=1, size=300, min_count=10)\n",
    "\n",
    "    print(\"----------------------------------------------------------\")\n",
    "    print(\"CRC\" + str(i) +\"데이터에서 colorectal와 관련된 문자들\")\n",
    "    print(\"----------------------------------------------------------\")\n",
    "    for word, score in model.wv.most_similar(\"colorectal\"):   # cancer0에서 cancer에 대한 연관성\n",
    "        print(word)\n",
    "    file.close()\n"
   ]
  },
  {
   "cell_type": "code",
   "execution_count": null,
   "metadata": {
    "collapsed": true
   },
   "outputs": [],
   "source": []
  }
 ],
 "metadata": {
  "kernelspec": {
   "display_name": "Python 3",
   "language": "python",
   "name": "python3"
  },
  "language_info": {
   "codemirror_mode": {
    "name": "ipython",
    "version": 3
   },
   "file_extension": ".py",
   "mimetype": "text/x-python",
   "name": "python",
   "nbconvert_exporter": "python",
   "pygments_lexer": "ipython3",
   "version": "3.6.3"
  }
 },
 "nbformat": 4,
 "nbformat_minor": 2
}
